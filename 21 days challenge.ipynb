{
 "cells": [
  {
   "cell_type": "code",
   "execution_count": 27,
   "id": "15f2e9f9-e381-4682-9d85-f65513174931",
   "metadata": {},
   "outputs": [
    {
     "name": "stdout",
     "output_type": "stream",
     "text": [
      "True\n",
      "False\n",
      "True\n",
      "False\n",
      "True\n"
     ]
    }
   ],
   "source": [
    "#Check if a String Contains Only Digits\n",
    "\n",
    "str = '1234567'\n",
    "my_str = str.isdigit()\n",
    "print(my_str)\n",
    "\n",
    "str1 = 'Eternatek123'\n",
    "my_str1 = str1.isdigit()\n",
    "print(my_str1)\n",
    "\n",
    "str2 = '000143'\n",
    "my_str2 = str2.isdigit()\n",
    "print(my_str2)\n",
    "\n",
    "str3 = '879coders'\n",
    "my_str3 = str3.isdigit()\n",
    "print(my_str3)\n",
    "\n",
    "s = '\\u00B23455'\n",
    "print(s.isdigit())"
   ]
  },
  {
   "cell_type": "code",
   "execution_count": 19,
   "id": "b2ad68bb-683c-41eb-bb23-cccecda07631",
   "metadata": {},
   "outputs": [
    {
     "name": "stdout",
     "output_type": "stream",
     "text": [
      "4\n",
      "2\n"
     ]
    }
   ],
   "source": [
    "#Split a String in Balanced Strings\n",
    "\n",
    "def balanced_string(s):\n",
    "    bal_count = 0\n",
    "    l_count = 0\n",
    "    r_count = 0\n",
    "    for i in range(len(s)):\n",
    "        if s[i] == 'L':\n",
    "            l_count += 1\n",
    "        else:\n",
    "            r_count += 1\n",
    "            \n",
    "        if l_count == r_count:\n",
    "            bal_count += 1\n",
    "\n",
    "    return bal_count\n",
    "\n",
    "print(balanced_string(\"RLRRLLRLRL\"))\n",
    "print(balanced_string(\"RLRRRLLRLL\"))"
   ]
  },
  {
   "cell_type": "code",
   "execution_count": 9,
   "id": "3bd53657-1e37-4a5a-969e-7dfb0730f561",
   "metadata": {},
   "outputs": [
    {
     "name": "stdout",
     "output_type": "stream",
     "text": [
      "True\n",
      "False\n",
      "False\n"
     ]
    }
   ],
   "source": [
    "#Count the Unique Number Which is Occurrences in List\n",
    "\n",
    "from collections import Counter\n",
    "\n",
    "def unique_occurrences(arr):\n",
    "    counts = Counter(arr)\n",
    "    occurrence_counts = list(counts.values())\n",
    "    return len(occurrence_counts) == len(set(occurrence_counts))\n",
    "\n",
    "\n",
    "e1 = [1, 2, 2, 1, 1, 3]\n",
    "e2 = [-1, -4, 6, 8, 2, -1]\n",
    "e3 = [0, 3, 1, 6, 2, 5]\n",
    "\n",
    "print(unique_occurrences(e1))  \n",
    "print(unique_occurrences(e2))  \n",
    "print(unique_occurrences(e3))  \n"
   ]
  },
  {
   "cell_type": "code",
   "execution_count": 37,
   "id": "44b02359-c86d-4046-8415-4daf434b6dbd",
   "metadata": {},
   "outputs": [
    {
     "name": "stdout",
     "output_type": "stream",
     "text": [
      "integer of 'MCMXCIV' is: 1994\n"
     ]
    }
   ],
   "source": [
    "#Convert Roman to Integer Numbers\n",
    "\n",
    "def roman_to_int(s):\n",
    "    roman_num = {'I' : 1,'V' : 5,'X' : 10,'L' : 50,'C' : 100,'D' : 500,'M' : 1000}\n",
    "\n",
    "    total = 0\n",
    "    prev_value = 0\n",
    "    \n",
    "    for i in reversed(s):\n",
    "        current_value = roman_num[i]\n",
    "        if current_value < prev_value:\n",
    "            total -= current_value \n",
    "        else:\n",
    "            total += current_value\n",
    "            prev_value = current_value\n",
    "\n",
    "    return total\n",
    "\n",
    "roman_num = \"MCMXCIV\"\n",
    "print(f\"integer of '{roman_num}' is: {roman_to_int(roman_num)}\")\n",
    "\n"
   ]
  },
  {
   "cell_type": "code",
   "execution_count": 25,
   "id": "bf462ad0-b780-4455-97f2-ed1779e0766d",
   "metadata": {},
   "outputs": [
    {
     "name": "stdout",
     "output_type": "stream",
     "text": [
      "['pw', 'px', 'py', 'pz', 'qw', 'qx', 'qy', 'qz', 'rw', 'rx', 'ry', 'rz', 'sw', 'sx', 'sy', 'sz']\n",
      "['ptw', 'ptx', 'pty', 'ptz', 'puw', 'pux', 'puy', 'puz', 'pvw', 'pvx', 'pvy', 'pvz', 'qtw', 'qtx', 'qty', 'qtz', 'quw', 'qux', 'quy', 'quz', 'qvw', 'qvx', 'qvy', 'qvz', 'rtw', 'rtx', 'rty', 'rtz', 'ruw', 'rux', 'ruy', 'ruz', 'rvw', 'rvx', 'rvy', 'rvz', 'stw', 'stx', 'sty', 'stz', 'suw', 'sux', 'suy', 'suz', 'svw', 'svx', 'svy', 'svz']\n"
     ]
    }
   ],
   "source": [
    "#Letter Combinations of a Phone Number\n",
    "def letter_combinations(digits):\n",
    "    if not digits:\n",
    "        return []\n",
    "\n",
    "    # Mapping of digit to letters\n",
    "    phone_map = {\n",
    "        \"2\": \"abc\", \"3\": \"def\", \"4\": \"ghi\", \"5\": \"jkl\", \n",
    "        \"6\": \"mno\", \"7\": \"pqrs\", \"8\": \"tuv\", \"9\": \"wxyz\"}\n",
    "\n",
    "    result = []\n",
    "\n",
    "    def backtrack(index, path):\n",
    "        if index == len(digits):\n",
    "            result.append(\"\".join(path))\n",
    "            return \n",
    "        possible_letters = phone_map[digits[index]]\n",
    "        \n",
    "        for letter in possible_letters:\n",
    "            path.append(letter)  # Choose\n",
    "            backtrack(index + 1, path)  # Explore\n",
    "            path.pop()  # Unchoose (backtrack)\n",
    "\n",
    "    backtrack(0, [])\n",
    "    return result\n",
    "\n",
    "digits = \"79\"\n",
    "print(letter_combinations(digits))\n",
    "\n",
    "digits = \"789\"\n",
    "print(letter_combinations(digits))"
   ]
  },
  {
   "cell_type": "code",
   "execution_count": 21,
   "id": "c32ece7f-64e8-41b1-9e51-39270a25c87f",
   "metadata": {},
   "outputs": [
    {
     "name": "stdout",
     "output_type": "stream",
     "text": [
      "4.19\n",
      "113.10\n",
      "0.00\n"
     ]
    }
   ],
   "source": [
    "#Calculate the Volume of a Sphere\n",
    "\n",
    "import math\n",
    "def volume_of_sphere(r):\n",
    " return (4 / 3) * math.pi * (r ** 3)\n",
    "    \n",
    "print(f\"{volume_of_sphere(1):.2f}\")\n",
    "print(f\"{volume_of_sphere(3):.2f}\")\n",
    "print(f\"{volume_of_sphere(0):.2f}\")"
   ]
  },
  {
   "cell_type": "code",
   "execution_count": 31,
   "id": "825f3a10-11db-4a17-8253-3324873d3475",
   "metadata": {},
   "outputs": [
    {
     "name": "stdout",
     "output_type": "stream",
     "text": [
      "Missing: 5, Repeated: 1\n",
      "Missing: 3, Repeated: 2\n"
     ]
    }
   ],
   "source": [
    "#Finding Missing and Repeated Values in an Arra\n",
    "\n",
    "def find_missing_and_repeated(arr):\n",
    "    n = len(arr)\n",
    "    \n",
    "    sum_n = n * (n + 1) // 2\n",
    "    sum_sq_n = n * (n + 1) * (2 * n + 1) // 6\n",
    "    \n",
    "    sum_arr = sum(arr)\n",
    "    sum_sq_arr = sum(x * x for x in arr)\n",
    "    \n",
    "    sum_diff = sum_n - sum_arr  \n",
    "    sum_sq_diff = sum_sq_n - sum_sq_arr  \n",
    "    \n",
    "    sum_mr = sum_sq_diff // sum_diff\n",
    "    M = (sum_diff + sum_mr) // 2\n",
    "    R = (sum_mr - sum_diff) // 2\n",
    "    \n",
    "    return M, R\n",
    "    \n",
    "arr = [4, 3, 6, 2, 1, 1]\n",
    "missing, repeated = find_missing_and_repeated(arr)\n",
    "print(f\"Missing: {missing}, Repeated: {repeated}\")\n",
    "\n",
    "arr = [1, 2, 2, 4, 5, 6]\n",
    "missing, repeated = find_missing_and_repeated(arr)\n",
    "print(f\"Missing: {missing}, Repeated: {repeated}\")\n"
   ]
  },
  {
   "cell_type": "code",
   "execution_count": 3,
   "id": "fa9646a1-cd81-4c9d-b79d-c2f20080acb0",
   "metadata": {},
   "outputs": [
    {
     "name": "stdout",
     "output_type": "stream",
     "text": [
      "abc\n",
      "b\n",
      "wke\n",
      "defgh\n"
     ]
    }
   ],
   "source": [
    "#Longest Substring with Distinct Characters\n",
    "\n",
    "def longest_unique_substring(s):\n",
    "    char_set = set()\n",
    "    max_length = 0\n",
    "    longest_substring = \"\"\n",
    "    start = 0\n",
    "    \n",
    "    for end in range(len(s)):\n",
    "        while s[end] in char_set:\n",
    "            char_set.remove(s[start])\n",
    "            start += 1    \n",
    "        char_set.add(s[end])\n",
    "        current_length = end - start + 1\n",
    "        \n",
    "        if current_length > max_length:\n",
    "            max_length = current_length\n",
    "            longest_substring = s[start:end+1]\n",
    "    \n",
    "    return longest_substring\n",
    "\n",
    "print(longest_unique_substring(\"abcabcbb\"))  \n",
    "print(longest_unique_substring(\"bbbbb\"))     \n",
    "print(longest_unique_substring(\"pwwkew\"))    \n",
    "print(longest_unique_substring(\"abcddefgh\")) \n"
   ]
  },
  {
   "cell_type": "code",
   "execution_count": 1,
   "id": "084b03f6-b99f-4d21-910c-590b509ee409",
   "metadata": {},
   "outputs": [
    {
     "name": "stdout",
     "output_type": "stream",
     "text": [
      "[(2, 'c', 'f')]\n",
      "[(3, '4', ''), (4, '5', '')]\n",
      "[(1, 'e', 'x'), (3, 'l', 'x')]\n",
      "[(0, 't', 'b')]\n"
     ]
    }
   ],
   "source": [
    "#Find Non-Matching Characters in a String\n",
    "\n",
    "def non_matching_char(s1,s2):\n",
    "    max_len = max(len(s1), len(s2))\n",
    "    result = []\n",
    "\n",
    "    for i in range(max_len):\n",
    "        char1 = s1[i] if i < len(s1) else ''\n",
    "        char2 = s2[i] if i < len(s2) else ''\n",
    "\n",
    "        if char1 != char2:\n",
    "            result.append((i,char1,char2))\n",
    "\n",
    "    return result\n",
    "\n",
    "print(non_matching_char(\"abcde\", \"abfde\"))\n",
    "print(non_matching_char(\"12345\", \"123\"))\n",
    "print(non_matching_char(\"hello\", \"hxlxo\"))\n",
    "print(non_matching_char(\"test\" , \"best\"))      "
   ]
  },
  {
   "cell_type": "code",
   "execution_count": 3,
   "id": "9f1df34a-94e2-4a0c-8bfb-399d28c83503",
   "metadata": {},
   "outputs": [
    {
     "name": "stdout",
     "output_type": "stream",
     "text": [
      "hello eternatek\n",
      "barbar\n",
      "bbbb\n",
      "codecodecode\n"
     ]
    }
   ],
   "source": [
    "#Replace Substring in a String\n",
    "\n",
    "def replace_substring(s, target, replacement):\n",
    "    return s.replace(target, replacement)\n",
    "\n",
    "print(replace_substring(\"hello world\", \"world\", \"eternatek\"))\n",
    "print(replace_substring(\"foobar\", \"foo\", \"bar\"))\n",
    "print(replace_substring(\"aaaa\", \"a\", \"b\"))\n",
    "print(replace_substring(\"abcabcabc\", \"abc\", \"code\"))"
   ]
  },
  {
   "cell_type": "code",
   "execution_count": 29,
   "id": "acba81d1-cf75-4333-a1c6-794cbd70a146",
   "metadata": {},
   "outputs": [
    {
     "name": "stdout",
     "output_type": "stream",
     "text": [
      "[7, 8, 9, 0]\n",
      "[1, 3, 5]\n",
      "[10, 20, 30, 40, 50, 60, 70]\n",
      "[]\n"
     ]
    }
   ],
   "source": [
    "#Find Non-Repeating Elements in an Array\n",
    "\n",
    "def find_non_repeating_elements(arr):\n",
    "    non_repeating_elements = []\n",
    "    \n",
    "    for i in range(len(arr)):\n",
    "        count = 0\n",
    "        for j in range(len(arr)):\n",
    "            if arr[i] == arr[j]:\n",
    "                count += 1\n",
    "        if count == 1:\n",
    "            non_repeating_elements.append(arr[i])\n",
    "    \n",
    "    return non_repeating_elements\n",
    "\n",
    "print(find_non_repeating_elements([4, 5, 4, 5, 7, 8, 9, 0, 4])) \n",
    "print(find_non_repeating_elements([1, 2, 2, 3, 4, 4, 5]))       \n",
    "print(find_non_repeating_elements([10, 20, 30, 40, 50, 60, 70])) \n",
    "print(find_non_repeating_elements([1, 1, 1, 1]))                \n"
   ]
  },
  {
   "cell_type": "code",
   "execution_count": 17,
   "id": "74516175-59ba-4617-a878-d68daccb3549",
   "metadata": {},
   "outputs": [
    {
     "name": "stdout",
     "output_type": "stream",
     "text": [
      "15\n",
      "55\n",
      "1\n",
      "5050\n"
     ]
    }
   ],
   "source": [
    "#Sum of Natural Numbers Using Recursion\n",
    "\n",
    "def sum_natural_numbers(n):\n",
    "    \n",
    "    if n == 1:\n",
    "        return 1\n",
    "    else:\n",
    "        return n + sum_natural_numbers(n - 1)\n",
    "\n",
    "print(sum_natural_numbers(5))   \n",
    "print(sum_natural_numbers(10))  \n",
    "print(sum_natural_numbers(1))   \n",
    "print(sum_natural_numbers(100)) \n"
   ]
  },
  {
   "cell_type": "code",
   "execution_count": 7,
   "id": "800209bd-291d-4c0c-aff0-8bcee43ab824",
   "metadata": {},
   "outputs": [
    {
     "name": "stdout",
     "output_type": "stream",
     "text": [
      "True\n",
      "True\n",
      "True\n",
      "False\n"
     ]
    }
   ],
   "source": [
    "#Day 14: Check Automorphic Number\n",
    "\n",
    "def is_automorphic(n):\n",
    "    square = n*n\n",
    "    str_n = str(n)\n",
    "    str_square = str(square)\n",
    "    return str_square.endswith(str_n)\n",
    "\n",
    "print(is_automorphic(5))\n",
    "print(is_automorphic(6))\n",
    "print(is_automorphic(25))\n",
    "print(is_automorphic(10))"
   ]
  },
  {
   "cell_type": "code",
   "execution_count": 11,
   "id": "5f241ed2-4da8-43f6-a4de-0371005388d8",
   "metadata": {},
   "outputs": [
    {
     "name": "stdout",
     "output_type": "stream",
     "text": [
      "Eternatek\n",
      "abc\n",
      "Spacesnumbers\n"
     ]
    }
   ],
   "source": [
    "#Day 15: Remove Non-Alphabet Characters from String\n",
    "\n",
    "import re\n",
    "\n",
    "def remove_non_alphabet(s):\n",
    "    s1=re.sub(\"[^A-Za-z]\",\"\",s)\n",
    "\n",
    "    return s1\n",
    "\n",
    "print(remove_non_alphabet(\"Eternatek123\"))\n",
    "print(remove_non_alphabet(\"abc!@#123\"))\n",
    "print(remove_non_alphabet(\"Spaces & numbers 456\"))"
   ]
  },
  {
   "cell_type": "code",
   "execution_count": 21,
   "id": "60da4eba-0efd-4a50-aa10-064bc168df39",
   "metadata": {},
   "outputs": [
    {
     "name": "stdout",
     "output_type": "stream",
     "text": [
      "Number of inversions are 1\n",
      "Number of inversions are 10\n",
      "Number of inversions are 0\n"
     ]
    }
   ],
   "source": [
    "#Day 16: Count Inversions in an Array\n",
    "\n",
    "def getInvCount(arr, n):\n",
    "\n",
    "    inv_count = 0\n",
    "    for i in range(n):\n",
    "        for j in range(i + 1, n):\n",
    "            if (arr[i] > arr[j]):\n",
    "                inv_count += 1\n",
    "\n",
    "    return inv_count\n",
    "\n",
    "n = len(arr)\n",
    "print(\"Number of inversions are\",  getInvCount([1, 3, 2, 4, 5], n))\n",
    "print(\"Number of inversions are\",  getInvCount( [5, 4, 3, 2, 1], n))\n",
    "print(\"Number of inversions are\",  getInvCount([1, 2, 3, 4, 5], n))\n",
    "\n"
   ]
  },
  {
   "cell_type": "code",
   "execution_count": 5,
   "id": "1c931e88-c772-4b2f-bc2d-407b1b6111a0",
   "metadata": {},
   "outputs": [
    {
     "name": "stdout",
     "output_type": "stream",
     "text": [
      "((2+0j), (1+0j))\n",
      "((2+0j), (-2+0j))\n"
     ]
    }
   ],
   "source": [
    "#Day 17: Roots of a Quadratic Equation\n",
    "\n",
    "import cmath\n",
    "\n",
    "def quadratic_root(a,b,c):\n",
    "    d = b**2 - 4*a*c\n",
    "\n",
    "    root1 = (-b + cmath.sqrt(d)) / (2*a)\n",
    "    root2 = (-b - cmath.sqrt(d)) / (2*a)\n",
    "\n",
    "    return (root1,root2)\n",
    "\n",
    "print(quadratic_root(1,-3,2))\n",
    "print(quadratic_root(1,0,-4))"
   ]
  },
  {
   "cell_type": "code",
   "execution_count": 15,
   "id": "86974a21-2095-4ae7-8cf6-864b51407de5",
   "metadata": {},
   "outputs": [
    {
     "name": "stdout",
     "output_type": "stream",
     "text": [
      "one two three\n",
      "four zero five\n",
      "nine nine nine\n",
      "zero\n"
     ]
    }
   ],
   "source": [
    "#Day 18: Convert Digits to Words\n",
    "\n",
    "def digits_to_words(number):\n",
    "    digit_map = {\n",
    "        '0': 'zero',\n",
    "        '1': 'one',\n",
    "        '2': 'two',\n",
    "        '3': 'three',\n",
    "        '4': 'four',\n",
    "        '5': 'five',\n",
    "        '6': 'six',\n",
    "        '7': 'seven',\n",
    "        '8': 'eight',\n",
    "        '9': 'nine'\n",
    "    }\n",
    "    \n",
    "    number_str = str(number)  \n",
    "    words = [digit_map[digit] for digit in number_str]\n",
    "    result = ' '.join(words)\n",
    "    \n",
    "    return result\n",
    "\n",
    "print(digits_to_words(123))  \n",
    "print(digits_to_words(405))  \n",
    "print(digits_to_words(999))  \n",
    "print(digits_to_words(0))  "
   ]
  },
  {
   "cell_type": "code",
   "execution_count": 9,
   "id": "2f026993-2773-45a2-a38c-8fcb236fcdcd",
   "metadata": {},
   "outputs": [
    {
     "name": "stdout",
     "output_type": "stream",
     "text": [
      "bab\n",
      "c\n",
      "a\n",
      "\n"
     ]
    }
   ],
   "source": [
    "#Day 19: Longest Palindromic Substring\n",
    "def longest_palindromic_substring(s):\n",
    "    n = len(s)\n",
    "    if n == 0:\n",
    "        return \"\"\n",
    "\n",
    "    longest = \"\"\n",
    "\n",
    "    def expand_around_center(left,right):\n",
    "        while left >= 0 and right < n and s[left] == s[right]:\n",
    "            left -= 1\n",
    "            right += 1\n",
    "        return s[left + 1:right]\n",
    "\n",
    "    for i in range(n):\n",
    "        palindrome1 = expand_around_center(i,i)\n",
    "        if len(palindrome1) > len(longest):\n",
    "            longest = palindrome1\n",
    "\n",
    "            palindrome2 = expand_around_center(i,i + 1)\n",
    "            if len(palindrome2) > len(longest):\n",
    "                longest = palindrome2\n",
    "\n",
    "    return longest\n",
    "\n",
    "print(longest_palindromic_substring(\"babad\"))\n",
    "print(longest_palindromic_substring(\"cbbd\"))\n",
    "print(longest_palindromic_substring(\"a\"))\n",
    "print(longest_palindromic_substring(\"\"))"
   ]
  },
  {
   "cell_type": "code",
   "execution_count": 31,
   "id": "e4539bb3-748e-4255-b4dd-92e1ae5c3590",
   "metadata": {},
   "outputs": [
    {
     "name": "stdout",
     "output_type": "stream",
     "text": [
      "True\n",
      "True\n",
      "False\n"
     ]
    }
   ],
   "source": [
    "#Day 20: Valid Parentheses\n",
    "\n",
    "def valid_parentheses(s):\n",
    "    list = []\n",
    "    parentheses = {')':'(','}':'{',']':'['}\n",
    "\n",
    "    for char in s:\n",
    "        if char in parentheses.values():\n",
    "            list.append(char)\n",
    "\n",
    "        elif char in parentheses.keys():\n",
    "            if list == [] or parentheses[char] != list.pop():\n",
    "                return False\n",
    "\n",
    "        else:\n",
    "            continue\n",
    "    return list == []\n",
    "\n",
    "print(valid_parentheses(\"()\"))\n",
    "print(valid_parentheses(\"{()[{}]()}\"))\n",
    "print(valid_parentheses( \"([)]\"))"
   ]
  },
  {
   "cell_type": "code",
   "execution_count": 41,
   "id": "1a1bf691-b4d2-479e-987c-3ef125acdc92",
   "metadata": {},
   "outputs": [
    {
     "name": "stdout",
     "output_type": "stream",
     "text": [
      "Short URL: http://tinyurl.com/wCCefG\n",
      "Decoded URL: https://www.example.com/long/url\n"
     ]
    }
   ],
   "source": [
    "#Day 21: Encode and Decode TinyURL\n",
    "import random\n",
    "import string\n",
    "\n",
    "class TinyURL:\n",
    "    def __init__(self):\n",
    "        self.url_map = {}\n",
    "        self.base_url = \"http://tinyurl.com/\"\n",
    "        self.chars = string.ascii_letters + string.digits\n",
    "\n",
    "    def _generate_key(self, length=6):\n",
    "        return ''.join(random.choice(self.chars) for _ in range(length))\n",
    "\n",
    "    def encode(self, long_url):\n",
    "        if long_url not in self.url_map:\n",
    "            short_key = self._generate_key()\n",
    "            while short_key in self.url_map:\n",
    "                short_key = self._generate_key()\n",
    "            self.url_map[short_key] = long_url\n",
    "        else:\n",
    "            short_key = [k for k, v in self.url_map.items() if v == long_url][0]\n",
    "        return self.base_url + short_key\n",
    "\n",
    "    def decode(self, short_url):\n",
    "        key = short_url.replace(self.base_url, \"\")\n",
    "        return self.url_map.get(key, \"URL not found\")\n",
    "\n",
    "tiny = TinyURL()\n",
    "short_url = tiny.encode(\"https://www.example.com/long/url\")\n",
    "print(\"Short URL:\", short_url)\n",
    "print(\"Decoded URL:\", tiny.decode(short_url))"
   ]
  },
  {
   "cell_type": "code",
   "execution_count": null,
   "id": "db4a2fa0-df49-4f33-b5b8-02819c5f1096",
   "metadata": {},
   "outputs": [],
   "source": []
  }
 ],
 "metadata": {
  "kernelspec": {
   "display_name": "Python 3 (ipykernel)",
   "language": "python",
   "name": "python3"
  },
  "language_info": {
   "codemirror_mode": {
    "name": "ipython",
    "version": 3
   },
   "file_extension": ".py",
   "mimetype": "text/x-python",
   "name": "python",
   "nbconvert_exporter": "python",
   "pygments_lexer": "ipython3",
   "version": "3.12.4"
  }
 },
 "nbformat": 4,
 "nbformat_minor": 5
}
